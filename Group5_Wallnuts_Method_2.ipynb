{
  "nbformat": 4,
  "nbformat_minor": 0,
  "metadata": {
    "colab": {
      "provenance": [],
      "authorship_tag": "ABX9TyPIyI2Bi/+YHyRsQetEeum0",
      "include_colab_link": true
    },
    "kernelspec": {
      "name": "python3",
      "display_name": "Python 3"
    },
    "language_info": {
      "name": "python"
    }
  },
  "cells": [
    {
      "cell_type": "markdown",
      "metadata": {
        "id": "view-in-github",
        "colab_type": "text"
      },
      "source": [
        "<a href=\"https://colab.research.google.com/github/ZaldyMejia/DSA-58010/blob/main/Group5_Wallnuts_Method_2.ipynb\" target=\"_parent\"><img src=\"https://colab.research.google.com/assets/colab-badge.svg\" alt=\"Open In Colab\"/></a>"
      ]
    },
    {
      "cell_type": "code",
      "execution_count": 25,
      "metadata": {
        "colab": {
          "base_uri": "https://localhost:8080/"
        },
        "id": "f5BwPFtkglaf",
        "outputId": "de392a1d-7ec7-46c9-dd2a-4a4b3e50184f"
      },
      "outputs": [
        {
          "output_type": "stream",
          "name": "stdout",
          "text": [
            "Input string to be translated: a\n",
            "How much should the alphabet be shifted?: 3232\n",
            "Shift number exceeded the number of alphabets\n"
          ]
        }
      ],
      "source": [
        "def magicshifter(text, shift, alphabets):\n",
        "\n",
        "  if shift > 27:\n",
        "    return \"Shift number exceeded the number of alphabets\"\n",
        "\n",
        "  else:\n",
        "    def theshifter(alphabets):\n",
        "      return alphabets[shift:] + alphabets[:shift]\n",
        "\n",
        "  \n",
        "\n",
        "    shifted_alphabets = tuple(map(theshifter, alphabets))\n",
        "    final_alphabet = ','.join(alphabets)\n",
        "    final_shifted_alphabet = ','.join(shifted_alphabets)\n",
        "    table = text.maketrans(final_alphabet, final_shifted_alphabet)\n",
        "    return text.translate(table)\n",
        "    \n",
        "    \n",
        "\n",
        "\n",
        "\n",
        "upperalphabet = \"ABCDEFGHIJKLMNOPQRSTUVWXYZ\"\n",
        "loweralphabet = \"abcdefghijklmnopqrstuvwxyz\"\n",
        "text = input(\"Input string to be translated: \")\n",
        "shift = int(input(\"How much should the alphabet be shifted?: \"))\n",
        "\n",
        "print(magicshifter(text,shift,[loweralphabet, upperalphabet]))\n",
        "\n",
        "\n"
      ]
    }
  ]
}