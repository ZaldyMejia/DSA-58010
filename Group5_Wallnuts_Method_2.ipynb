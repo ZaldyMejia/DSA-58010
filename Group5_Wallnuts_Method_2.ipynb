{
  "nbformat": 4,
  "nbformat_minor": 0,
  "metadata": {
    "colab": {
      "provenance": [],
      "authorship_tag": "ABX9TyOw2fjV/bW+BsWZJqNTKOCL",
      "include_colab_link": true
    },
    "kernelspec": {
      "name": "python3",
      "display_name": "Python 3"
    },
    "language_info": {
      "name": "python"
    }
  },
  "cells": [
    {
      "cell_type": "markdown",
      "metadata": {
        "id": "view-in-github",
        "colab_type": "text"
      },
      "source": [
        "<a href=\"https://colab.research.google.com/github/ZaldyMejia/DSA-58010/blob/main/Group5_Wallnuts_Method_2.ipynb\" target=\"_parent\"><img src=\"https://colab.research.google.com/assets/colab-badge.svg\" alt=\"Open In Colab\"/></a>"
      ]
    },
    {
      "cell_type": "code",
      "execution_count": 26,
      "metadata": {
        "colab": {
          "base_uri": "https://localhost:8080/"
        },
        "id": "f5BwPFtkglaf",
        "outputId": "20e54c7d-e1a3-4c39-d09f-bd27ef78a75e"
      },
      "outputs": [
        {
          "output_type": "stream",
          "name": "stdout",
          "text": [
            "Input string to be translated: Data Structures and Algorithm LAB\n",
            "How much should the alphabet be shifted?: 3\n",
            "Gdwd Vwuxfwxuhv dqg Dojrulwkp ODE\n"
          ]
        }
      ],
      "source": [
        "def magicshifter(text, shift, alphabets):\n",
        "\n",
        "  if shift > 27: \n",
        "    return \"Shift number exceeded the number of alphabets\"\n",
        "\n",
        "  else:\n",
        "    def theshifter(alphabets):\n",
        "      return alphabets[shift:] + alphabets[:shift]\n",
        "\n",
        "  \n",
        "\n",
        "    shifted_alphabets = tuple(map(theshifter, alphabets))\n",
        "    final_alphabet = ','.join(alphabets)\n",
        "    final_shifted_alphabet = ','.join(shifted_alphabets)\n",
        "    table = text.maketrans(final_alphabet, final_shifted_alphabet)\n",
        "    return text.translate(table)\n",
        "    \n",
        "    \n",
        "\n",
        "\n",
        "\n",
        "upperalphabet = \"ABCDEFGHIJKLMNOPQRSTUVWXYZ\"\n",
        "loweralphabet = \"abcdefghijklmnopqrstuvwxyz\"\n",
        "text = input(\"Input string to be translated: \")\n",
        "shift = int(input(\"How much should the alphabet be shifted?: \"))\n",
        "\n",
        "print(magicshifter(text,shift,[loweralphabet, upperalphabet]))\n",
        "\n",
        "\n"
      ]
    }
  ]
}