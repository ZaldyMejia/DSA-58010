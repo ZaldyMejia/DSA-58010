{
  "nbformat": 4,
  "nbformat_minor": 0,
  "metadata": {
    "colab": {
      "provenance": [],
      "authorship_tag": "ABX9TyOO5fjx0Ti45w6AurnvvbCQ",
      "include_colab_link": true
    },
    "kernelspec": {
      "name": "python3",
      "display_name": "Python 3"
    },
    "language_info": {
      "name": "python"
    }
  },
  "cells": [
    {
      "cell_type": "markdown",
      "metadata": {
        "id": "view-in-github",
        "colab_type": "text"
      },
      "source": [
        "<a href=\"https://colab.research.google.com/github/ZaldyMejia/DSA-58010/blob/main/Activity_7.ipynb\" target=\"_parent\"><img src=\"https://colab.research.google.com/assets/colab-badge.svg\" alt=\"Open In Colab\"/></a>"
      ]
    },
    {
      "cell_type": "code",
      "execution_count": 3,
      "metadata": {
        "colab": {
          "base_uri": "https://localhost:8080/"
        },
        "id": "2RIOK2QytoBH",
        "outputId": "bc67396f-781c-4259-a4b4-cadba2145426"
      },
      "outputs": [
        {
          "output_type": "stream",
          "name": "stdout",
          "text": [
            "E\n",
            "[['I', 33], ['J', 58], ['K', 41], ['M', 69]] \n",
            "\n",
            "F\n",
            "[['I', 43], ['J', 32], ['K', 51], ['P', 70]] \n",
            "\n",
            "H\n",
            "[['I', 16], ['J', 22], ['K', 100]] \n",
            "\n",
            "I\n",
            "[['E', 33], ['F', 43], ['H', 16]] \n",
            "\n",
            "J\n",
            "[['E', 58], ['F', 32], ['H', 22]] \n",
            "\n",
            "K\n",
            "[['E', 41], ['F', 51], ['H', 100]] \n",
            "\n",
            "M\n",
            "[['E', 69]] \n",
            "\n",
            "P\n",
            "[['F', 70]] \n",
            "\n"
          ]
        }
      ],
      "source": [
        "#Implementation of Graph28 (V,E)\n",
        "\n",
        "G28 ={\n",
        "    'E': [['I',33], ['J', 58], ['K', 41], ['M', 69]] ,\n",
        "    'F': [['I',43], ['J', 32], ['K', 51], ['P', 70]] ,\n",
        "    'H': [['I',16], ['J', 22], ['K', 100]] ,\n",
        "    'I': [['E',33], ['F', 43], ['H', 16]] ,\n",
        "    'J': [['E',58], ['F', 32], ['H', 22]] ,\n",
        "    'K': [['E',41], ['F', 51], ['H', 100]] ,\n",
        "    'M': [['E',69]] , \n",
        "    'P': [['F',70]]\n",
        "}\n",
        "\n",
        "for keys,values in G28.items():\n",
        "    print(keys)\n",
        "    print(values, \"\\n\")\n"
      ]
    }
  ]
}