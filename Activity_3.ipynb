{
  "nbformat": 4,
  "nbformat_minor": 0,
  "metadata": {
    "colab": {
      "provenance": [],
      "authorship_tag": "ABX9TyPDPnJxT8Y/rh/XFQgIATSV",
      "include_colab_link": true
    },
    "kernelspec": {
      "name": "python3",
      "display_name": "Python 3"
    },
    "language_info": {
      "name": "python"
    }
  },
  "cells": [
    {
      "cell_type": "markdown",
      "metadata": {
        "id": "view-in-github",
        "colab_type": "text"
      },
      "source": [
        "<a href=\"https://colab.research.google.com/github/ZaldyMejia/DSA-58010/blob/main/Activity_3.ipynb\" target=\"_parent\"><img src=\"https://colab.research.google.com/assets/colab-badge.svg\" alt=\"Open In Colab\"/></a>"
      ]
    },
    {
      "cell_type": "markdown",
      "source": [
        "Instruction: Type the python codes below in your Colab. After running your codes, answer the questions below.\n",
        "\n",
        "Questions:\n",
        "\n",
        "1. Upon typing the codes, what is the name of the abstract data type? How is it implemented?\n",
        "2. What is the output of the codes?\n",
        "3. If you want to type additional codes, what will be the statement to pop 3 elements from the top of the stack?\n",
        "4. If you will revise the codes, what will be the statement to determine the length of the stack? (Note: You may add additional methods to count the no. of elements in the stack)"
      ],
      "metadata": {
        "id": "VzmKpvPwJNig"
      }
    },
    {
      "cell_type": "code",
      "execution_count": 2,
      "metadata": {
        "colab": {
          "base_uri": "https://localhost:8080/"
        },
        "id": "yewnutxCJLwd",
        "outputId": "1570c3e3-fbb4-4b47-f515-0ed03bf59579"
      },
      "outputs": [
        {
          "output_type": "stream",
          "name": "stdout",
          "text": [
            "Pushed Element: 1\n",
            "Pushed Element: 2\n",
            "Pushed Element: 3\n",
            "Pushed Element: 4\n",
            "Pushed Element: 5\n",
            "The elements in the stack are:['1', '2']\n",
            "There are 2 elements in the stack\n"
          ]
        }
      ],
      "source": [
        "# Stack implementation in python\n",
        "\n",
        "# Creating a stack\n",
        "\n",
        "def create_stack():\n",
        "\n",
        "    stack = []\n",
        "\n",
        "    return stack\n",
        "\n",
        "# Creating an empty stack\n",
        "\n",
        "def is_empty(stack):\n",
        "\n",
        "    return len(stack) == 0\n",
        "\n",
        "# Adding items into the stack\n",
        "\n",
        "def push(stack, item):\n",
        "\n",
        "    stack.append(item)\n",
        "\n",
        "    print(\"Pushed Element: \" + item)\n",
        "\n",
        "# Removing an element from the stack\n",
        "\n",
        "def pop(stack):\n",
        "\n",
        "    if (is_empty(stack)):\n",
        "\n",
        "        return \"The stack is empty\"\n",
        "\n",
        "    return stack.pop()\n",
        "\n",
        "# determining the length of the stack\n",
        "    \n",
        "def size():\n",
        "    return len(stack)\n",
        "\n",
        "stack = create_stack()\n",
        "\n",
        "push(stack, str(1))\n",
        "\n",
        "push(stack, str(2))\n",
        "\n",
        "push(stack, str(3))\n",
        "\n",
        "push(stack, str(4))\n",
        "\n",
        "push(stack, str(5))\n",
        "\n",
        "for _ in range(3): #the underscore is a variable whose value does not matter\n",
        "    pop(stack)\n",
        "\n",
        "\n",
        "print(\"The elements in the stack are:\"+ str(stack))\n",
        "\n",
        "print(\"There are\" , size(), \"elements in the stack\")"
      ]
    },
    {
      "cell_type": "markdown",
      "source": [
        "* Upon typing the codes, what is the name of the abstract data type? How is it implemented?\n",
        "\n",
        "For this program, the abstract data type that was implemented is called a Stack. A stack is a collection of elements that has two operations; to add (push) elements in the collection or to remove (pop) elements. Note that in a stack, only the recently added element will be removed using the pop function. To implement a stack into a program, you need to create 3 main functions for the stack which are Stack() which creates a stack, push() which adds elements at the top of the stack, and pop() which removes the element at the top of the stack. You can also create a function size() and isEmpty() which returns the size of the stack and checks whether the stack has elements or not respectively. \n",
        "\n",
        "* What is the output of the codes?\n",
        "\n",
        "The output of the program are the string of numbers that were pushed using the push() function which are 1, 2, 3, 4, and 5. A print statement is used to print\n",
        "the whole stack which outputs [1, 2, 3, 4, 5]\n",
        "\n",
        "* If you want to type additional codes, what will be the statement to pop 3 elements from the top of the stack?\n",
        "\n",
        "If I want to pop the 3 elements that are on the top of stack (5, 4, and 3), it is better to use a for loop where the inside of the for loop is the pop function. This will call the pop function depending on how many times you want it to be called.\n",
        "\n",
        "* If you will revise the codes, what will be the statement to determine the length of the stack? (Note: You may add additional methods to count the no. of elements in the stack)\n",
        "\n",
        "\n",
        "To print the lenght of the stack, create a function called size() and inside the function create a statement that returns the length of the stack using the\n",
        "built-in len function (return len(stack))\n"
      ],
      "metadata": {
        "id": "i4j2FtGiOn9_"
      }
    }
  ]
}