{
  "nbformat": 4,
  "nbformat_minor": 0,
  "metadata": {
    "colab": {
      "provenance": [],
      "authorship_tag": "ABX9TyMqS4HOq2OidyRa20WWrh7O",
      "include_colab_link": true
    },
    "kernelspec": {
      "name": "python3",
      "display_name": "Python 3"
    },
    "language_info": {
      "name": "python"
    }
  },
  "cells": [
    {
      "cell_type": "markdown",
      "metadata": {
        "id": "view-in-github",
        "colab_type": "text"
      },
      "source": [
        "<a href=\"https://colab.research.google.com/github/ZaldyMejia/DSA-58010/blob/main/Python_Module.ipynb\" target=\"_parent\"><img src=\"https://colab.research.google.com/assets/colab-badge.svg\" alt=\"Open In Colab\"/></a>"
      ]
    },
    {
      "cell_type": "markdown",
      "source": [
        "EXAMPLE 1"
      ],
      "metadata": {
        "id": "G4Q9TT2X5ses"
      }
    },
    {
      "cell_type": "code",
      "source": [
        "import array\n",
        "array.typecodes\n",
        "A = array.array('i', [1,2,3,4,5,6])\n",
        "B = array.array('f', [1.5,2.5,3.5,4.5,5.5,6.5])\n",
        "print(A.typecode)\n",
        "print(B.typecode)"
      ],
      "metadata": {
        "colab": {
          "base_uri": "https://localhost:8080/"
        },
        "id": "LnOpBzpo5rls",
        "outputId": "9a2cb2bf-aeac-465f-a0e6-8c04afafec0c"
      },
      "execution_count": 2,
      "outputs": [
        {
          "output_type": "stream",
          "name": "stdout",
          "text": [
            "i\n",
            "f\n"
          ]
        }
      ]
    },
    {
      "cell_type": "markdown",
      "source": [
        "EXAMPLE 2. Create/Convert the elements of Array A to a float/decimal number"
      ],
      "metadata": {
        "id": "T7jtOt188G7g"
      }
    },
    {
      "cell_type": "code",
      "execution_count": 3,
      "metadata": {
        "colab": {
          "base_uri": "https://localhost:8080/"
        },
        "id": "YDRdANej5pGg",
        "outputId": "d307f277-8970-457e-db77-6f6baefc17bb"
      },
      "outputs": [
        {
          "output_type": "stream",
          "name": "stdout",
          "text": [
            "array('f', [3.299999952316284, 3.4000000953674316, 5.5, 5.400000095367432, 6.699999809265137, 5.199999809265137])\n"
          ]
        }
      ],
      "source": [
        "A = array.array('f', [3.3, 3.4, 5.5 , 5.4, 6.7, 5.2])\n",
        "print(A)"
      ]
    },
    {
      "cell_type": "markdown",
      "source": [
        "EXAMPLE 3. "
      ],
      "metadata": {
        "id": "pkI2WjRXAF2e"
      }
    },
    {
      "cell_type": "code",
      "source": [
        "a = array.array('i', [4,5,6,7])\n",
        "b = array.array('i', [5,4,3])\n",
        "a.insert(1,2)\n",
        "\n",
        "print(a)\n",
        "\n",
        "a.insert(-1,0)\n",
        "print(a)\n",
        "a.insert(6,8) \n",
        "print(a)\n",
        "\n",
        "b[0] = 5\n",
        "print(b)\n",
        "b[-1] = 9\n",
        "print(b)\n"
      ],
      "metadata": {
        "colab": {
          "base_uri": "https://localhost:8080/"
        },
        "id": "bg-ZZasWAIEu",
        "outputId": "3bf22ce1-1b50-45f9-8c0f-49ad4ef04532"
      },
      "execution_count": 8,
      "outputs": [
        {
          "output_type": "stream",
          "name": "stdout",
          "text": [
            "array('i', [4, 2, 5, 6, 7])\n",
            "array('i', [4, 2, 5, 6, 0, 7])\n",
            "array('i', [4, 2, 5, 6, 0, 7, 8])\n",
            "array('i', [5, 4, 3])\n",
            "array('i', [5, 4, 9])\n"
          ]
        }
      ]
    },
    {
      "cell_type": "markdown",
      "source": [
        "EXAMPLE 4."
      ],
      "metadata": {
        "id": "7HgozwLgFIiv"
      }
    },
    {
      "cell_type": "code",
      "source": [
        "class Node:\n",
        "  def __init__(self, data):\n",
        "    self.data = data\n",
        "    self.next = None\n",
        "\n",
        "class Linkedlist:\n",
        "  def __init__(self):\n",
        "    self.head = None\n",
        "\n",
        "  def printing(self):\n",
        "    temp = self.head\n",
        "    while(temp!=None):\n",
        "      print(temp.data)\n",
        "      temp = temp.next\n",
        "\n",
        "list = Linkedlist()\n",
        "list.head = Node(1)\n",
        "second = Node(2)\n",
        "third = Node(3)\n",
        "\n",
        "list.head.next = second\n",
        "second.next = third\n",
        "\n",
        "list.printing()"
      ],
      "metadata": {
        "colab": {
          "base_uri": "https://localhost:8080/"
        },
        "id": "snRUePVGFKui",
        "outputId": "9c5d8b1f-2bf6-4133-8894-b0886a017ea1"
      },
      "execution_count": 14,
      "outputs": [
        {
          "output_type": "stream",
          "name": "stdout",
          "text": [
            "1\n",
            "2\n",
            "3\n"
          ]
        }
      ]
    }
  ]
}