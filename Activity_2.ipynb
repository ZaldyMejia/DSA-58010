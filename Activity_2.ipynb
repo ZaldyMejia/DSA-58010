{
  "nbformat": 4,
  "nbformat_minor": 0,
  "metadata": {
    "colab": {
      "provenance": [],
      "authorship_tag": "ABX9TyOg2cL7FkgCtI8st3pHYX7x",
      "include_colab_link": true
    },
    "kernelspec": {
      "name": "python3",
      "display_name": "Python 3"
    },
    "language_info": {
      "name": "python"
    }
  },
  "cells": [
    {
      "cell_type": "markdown",
      "metadata": {
        "id": "view-in-github",
        "colab_type": "text"
      },
      "source": [
        "<a href=\"https://colab.research.google.com/github/ZaldyMejia/DSA-58010/blob/main/Activity_2.ipynb\" target=\"_parent\"><img src=\"https://colab.research.google.com/assets/colab-badge.svg\" alt=\"Open In Colab\"/></a>"
      ]
    },
    {
      "cell_type": "markdown",
      "source": [
        "Write a Python program to create a singly linked list of prime numbers less than 20. By iterating through the list, display all the prime numbers, the head, and the tail of the list. "
      ],
      "metadata": {
        "id": "pzvk4TLlgo7o"
      }
    },
    {
      "cell_type": "code",
      "execution_count": 3,
      "metadata": {
        "colab": {
          "base_uri": "https://localhost:8080/"
        },
        "id": "ySu_H1E1gfoq",
        "outputId": "da7afccb-273c-475e-e4a4-d7b41ca61bd2"
      },
      "outputs": [
        {
          "output_type": "stream",
          "name": "stdout",
          "text": [
            "2 → 3 → 5 → 7 → 11 → 13 → 17 → 19 → Done\n"
          ]
        }
      ],
      "source": [
        "class Nodes:\n",
        "   def __init__(self, maindata):\n",
        "      self.dataval = maindata\n",
        "      self.newval = None\n",
        "      \n",
        "Prime = [2, 3, 5, 7,11, 13, 17, 19]\n",
        "\n",
        "node1 = Nodes(Prime[0])\n",
        "node2 = Nodes(Prime[1])\n",
        "node3 = Nodes(Prime[2])\n",
        "node4 = Nodes(Prime[3])\n",
        "node5 = Nodes(Prime[4])\n",
        "node6 = Nodes(Prime[5])\n",
        "node7 = Nodes(Prime[6])\n",
        "node8 = Nodes(Prime[7])\n",
        "\n",
        "node1.newval = node2\n",
        "node2.newval = node3\n",
        "node3.newval = node4\n",
        "node4.newval = node5\n",
        "node5.newval = node6\n",
        "node6.newval = node7\n",
        "node7.newval = node8\n",
        "\n",
        "\n",
        "TheNode = node1\n",
        "\n",
        "while True:\n",
        "    print(TheNode.dataval, \"→ \", end='')\n",
        "    if TheNode.newval is None:\n",
        "        print(\"Done\")\n",
        "        break\n",
        "    \n",
        "    TheNode = TheNode.newval\n",
        "    "
      ]
    }
  ]
}