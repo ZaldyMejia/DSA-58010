{
  "nbformat": 4,
  "nbformat_minor": 0,
  "metadata": {
    "colab": {
      "name": "Untitled1.ipynb",
      "provenance": [],
      "authorship_tag": "ABX9TyOEr3gvlT5yXUqO1K4vNwRU",
      "include_colab_link": true
    },
    "kernelspec": {
      "name": "python3",
      "display_name": "Python 3"
    },
    "language_info": {
      "name": "python"
    }
  },
  "cells": [
    {
      "cell_type": "markdown",
      "metadata": {
        "id": "view-in-github",
        "colab_type": "text"
      },
      "source": [
        "<a href=\"https://colab.research.google.com/github/ZaldyMejia/DSA-58010/blob/main/Practical%20Lab%20Exam.ipynb\" target=\"_parent\"><img src=\"https://colab.research.google.com/assets/colab-badge.svg\" alt=\"Open In Colab\"/></a>"
      ]
    },
    {
      "cell_type": "code",
      "execution_count": 9,
      "metadata": {
        "colab": {
          "base_uri": "https://localhost:8080/"
        },
        "id": "46eMlXKJlfcg",
        "outputId": "333de729-4096-496e-a12b-e8e7fc7a4277"
      },
      "outputs": [
        {
          "output_type": "stream",
          "name": "stdout",
          "text": [
            "186\n"
          ]
        }
      ],
      "source": [
        "Grades = [26, 49, 98, 87, 62, 75]\n",
        "totalscore = 0\n",
        "\n",
        "for integers in Grades:\n",
        "    if integers % 2 == 0:\n",
        "        totalscore += integers\n",
        "        \n",
        "print(totalscore)"
      ]
    }
  ]
}