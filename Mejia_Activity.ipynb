{
  "nbformat": 4,
  "nbformat_minor": 0,
  "metadata": {
    "colab": {
      "provenance": [],
      "authorship_tag": "ABX9TyP2w5UDARc6FzI7zz4aaJul",
      "include_colab_link": true
    },
    "kernelspec": {
      "name": "python3",
      "display_name": "Python 3"
    },
    "language_info": {
      "name": "python"
    }
  },
  "cells": [
    {
      "cell_type": "markdown",
      "metadata": {
        "id": "view-in-github",
        "colab_type": "text"
      },
      "source": [
        "<a href=\"https://colab.research.google.com/github/ZaldyMejia/DSA-58010/blob/main/Mejia_Activity.ipynb\" target=\"_parent\"><img src=\"https://colab.research.google.com/assets/colab-badge.svg\" alt=\"Open In Colab\"/></a>"
      ]
    },
    {
      "cell_type": "markdown",
      "source": [
        "Write a Python program to create an array of 10 integers and display the array items. Access individual elements through indexes and compute for the sum."
      ],
      "metadata": {
        "id": "s84bzwDkJ3ON"
      }
    },
    {
      "cell_type": "code",
      "execution_count": 14,
      "metadata": {
        "colab": {
          "base_uri": "https://localhost:8080/"
        },
        "id": "vOd4W6bmIyCe",
        "outputId": "c7ee46c4-71a2-48a2-cf83-15ac27b1839d"
      },
      "outputs": [
        {
          "output_type": "stream",
          "name": "stdout",
          "text": [
            "1\n",
            "2\n",
            "3\n",
            "4\n",
            "5\n",
            "6\n",
            "7\n",
            "8\n",
            "9\n",
            "10\n",
            "55\n"
          ]
        }
      ],
      "source": [
        "#Write a Python program to create an array of 10 integers and display \n",
        "#the array items. Access individual elements through indexes and compute for the sum.\n",
        "\n",
        "A = [1, 2, 3, 4, 5, 6, 7, 8, 9, 10]\n",
        "sum = 0\n",
        "\n",
        "for integers in A: #for loop to access individual elements in the list 'A'\n",
        "  print(integers)  #Print function to print the elements of 'A'\n",
        "  sum = sum + integers #Computes for the sum of the elements in 'A'\n",
        "  if integers == 10: #Displays the sum value once the for loop finishes iterating through the list\n",
        "    print(sum)"
      ]
    },
    {
      "cell_type": "markdown",
      "source": [
        "Write a Python program to append a new item to the end of the array. Original array: numbers = [1, 2, 3, 4, 5, 6, 7, 8, 9, 10]"
      ],
      "metadata": {
        "id": "rI_n2Oc1J4XA"
      }
    },
    {
      "cell_type": "code",
      "source": [
        "#Write a Python program to append a new item to the end of the array. \n",
        "#Original array: numbers = [1, 2, 3, 4, 5, 6, 7, 8, 9, 10]\n",
        "\n",
        "numbers = [1, 2, 3, 4, 5, 6, 7, 8, 9, 10]\n",
        "\n",
        "print(numbers)\n",
        "x = int(input(\"Enter a number to append to the list\\n\")) #input for the integer to be inserted to the list\n",
        "numbers.append(x) #function to add the input to the list\n",
        "print(numbers) #prints the new list"
      ],
      "metadata": {
        "colab": {
          "base_uri": "https://localhost:8080/"
        },
        "id": "--1W4jGvJ6wt",
        "outputId": "e3f9a18b-6ac0-4b0e-a55a-7d4f5031b03d"
      },
      "execution_count": 15,
      "outputs": [
        {
          "output_type": "stream",
          "name": "stdout",
          "text": [
            "[1, 2, 3, 4, 5, 6, 7, 8, 9, 10]\n",
            "Enter a number to append to the list\n",
            "32113\n",
            "[1, 2, 3, 4, 5, 6, 7, 8, 9, 10, 32113]\n"
          ]
        }
      ]
    },
    {
      "cell_type": "markdown",
      "source": [
        "Write a Python program to insert a new item before the second element in an existing array. Original array: numbers = [1, 2, 3, 4, 5, 6, 7, 8, 9, 10]"
      ],
      "metadata": {
        "id": "OD6HKx2NK3OM"
      }
    },
    {
      "cell_type": "code",
      "source": [
        "#Write a Python program to insert a new item before the second element in \n",
        "#an existing array. Original array: numbers = [1, 2, 3, 4, 5, 6, 7, 8, 9, 10]\n",
        "\n",
        "numbers = [1, 2, 3, 4, 5, 6, 7, 8, 9, 10]\n",
        "\n",
        "print(numbers)\n",
        "x = int(input(\"Enter a number to append to the list before the 2nd number\\n\")) #input for the integer to be inserted\n",
        "numbers.insert(1,x) #function to add the input to the list in a specific order (insert(position, what number))                                                          \n",
        "print(numbers) #prints the new list"
      ],
      "metadata": {
        "colab": {
          "base_uri": "https://localhost:8080/"
        },
        "id": "R2YUquZbK3_8",
        "outputId": "f33fc429-b2d4-4d0c-845b-83d9ece80564"
      },
      "execution_count": 11,
      "outputs": [
        {
          "output_type": "stream",
          "name": "stdout",
          "text": [
            "[1, 2, 3, 4, 5, 6, 7, 8, 9, 10]\n",
            "Enter a number to append to the list before the 2nd number\n",
            "33\n",
            "[1, 33, 2, 3, 4, 5, 6, 7, 8, 9, 10]\n"
          ]
        }
      ]
    },
    {
      "cell_type": "markdown",
      "source": [
        "Write a Python program to reverse the order of the items in the array.Original array: numbers = [5, 4, 3, 2, 1]"
      ],
      "metadata": {
        "id": "wkZVNEO3LvyY"
      }
    },
    {
      "cell_type": "code",
      "source": [
        "#Write a Python program to reverse the order of the items in the array.Original \n",
        "#array: numbers = [5, 4, 3, 2, 1]\n",
        "\n",
        "numbers = [5, 4, 3, 2, 1]\n",
        "numbers.reverse() #function that reverses the list's order\n",
        "\n",
        "print(numbers) #prints the new list"
      ],
      "metadata": {
        "colab": {
          "base_uri": "https://localhost:8080/"
        },
        "id": "mjIdLnI_Lxei",
        "outputId": "ec53edc7-6644-4a84-8e60-453473d10716"
      },
      "execution_count": 12,
      "outputs": [
        {
          "output_type": "stream",
          "name": "stdout",
          "text": [
            "[1, 2, 3, 4, 5]\n"
          ]
        }
      ]
    },
    {
      "cell_type": "markdown",
      "source": [
        "Write a Python program to get the length of the array. Original array: numbers = [5, 4, 3, 2, 1]"
      ],
      "metadata": {
        "id": "qRWYva9oMUEV"
      }
    },
    {
      "cell_type": "code",
      "source": [
        "#Write a Python program to get the length of the array. Original array: \n",
        "numbers = [5, 4, 3, 2, 1]\n",
        "\n",
        "length = len(numbers) #function that gets the size of the list\n",
        "print(\"The length of the list 'numbers' is\", length) #prints the size of the list"
      ],
      "metadata": {
        "colab": {
          "base_uri": "https://localhost:8080/"
        },
        "id": "DFwZtcj7MUg2",
        "outputId": "36978161-3173-470b-f806-209b8af5e852"
      },
      "execution_count": 13,
      "outputs": [
        {
          "output_type": "stream",
          "name": "stdout",
          "text": [
            "The length of the list 'numbers' is 5\n"
          ]
        }
      ]
    }
  ]
}