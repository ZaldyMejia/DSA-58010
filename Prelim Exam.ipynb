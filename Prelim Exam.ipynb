{
  "nbformat": 4,
  "nbformat_minor": 0,
  "metadata": {
    "colab": {
      "provenance": [],
      "collapsed_sections": [],
      "authorship_tag": "ABX9TyMntYFYYCC0EDbYDSszZnc3",
      "include_colab_link": true
    },
    "kernelspec": {
      "name": "python3",
      "display_name": "Python 3"
    },
    "language_info": {
      "name": "python"
    }
  },
  "cells": [
    {
      "cell_type": "markdown",
      "metadata": {
        "id": "view-in-github",
        "colab_type": "text"
      },
      "source": [
        "<a href=\"https://colab.research.google.com/github/ZaldyMejia/DSA-58010/blob/main/Prelim%20Exam.ipynb\" target=\"_parent\"><img src=\"https://colab.research.google.com/assets/colab-badge.svg\" alt=\"Open In Colab\"/></a>"
      ]
    },
    {
      "cell_type": "markdown",
      "source": [
        "DSA Prelim exam Test III. Programming\n",
        "\n",
        "Create a python program that creates the array list below and counts the no. of even numbers A = [1,2,3,4,5,6,7,8,9,10]"
      ],
      "metadata": {
        "id": "Ecp-TA2M3V_q"
      }
    },
    {
      "cell_type": "code",
      "execution_count": 2,
      "metadata": {
        "colab": {
          "base_uri": "https://localhost:8080/"
        },
        "id": "e6OnIBQRMlWp",
        "outputId": "bbd7d7d8-8943-4d51-acf6-1eee225a7bcc"
      },
      "outputs": [
        {
          "output_type": "stream",
          "name": "stdout",
          "text": [
            "The array is [ 1  2  3  4  5  6  7  8  9 10]\n",
            "There are 5 even numbers in the array\n",
            "The even numbers are: [ 2.  4.  6.  8. 10.]\n"
          ]
        }
      ],
      "source": [
        "import numpy as numpy\n",
        "\n",
        "A = numpy.array([1,2,3,4,5,6,7,8,9,10])\n",
        "evennum = 0\n",
        "Evennum = numpy.array([])\n",
        "\n",
        "for elements in A:\n",
        "    \n",
        "    if elements % 2 == 0:\n",
        "        evennum = evennum + 1\n",
        "        Evennum = numpy.append(Evennum, [elements])\n",
        "        \n",
        "    elif elements % 2 != 0:\n",
        "        evennum = evennum - 0\n",
        "        \n",
        "print(\"The array is\", A)\n",
        "print(\"There are\", evennum, \"even numbers in the array\")\n",
        "print(\"The even numbers are:\", Evennum)"
      ]
    }
  ]
}