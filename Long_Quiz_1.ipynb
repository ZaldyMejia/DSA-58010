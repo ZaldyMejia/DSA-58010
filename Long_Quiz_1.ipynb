{
  "nbformat": 4,
  "nbformat_minor": 0,
  "metadata": {
    "colab": {
      "provenance": [],
      "authorship_tag": "ABX9TyNMLCDqxWNjZ8UwcRGgMKVZ",
      "include_colab_link": true
    },
    "kernelspec": {
      "name": "python3",
      "display_name": "Python 3"
    },
    "language_info": {
      "name": "python"
    }
  },
  "cells": [
    {
      "cell_type": "markdown",
      "metadata": {
        "id": "view-in-github",
        "colab_type": "text"
      },
      "source": [
        "<a href=\"https://colab.research.google.com/github/ZaldyMejia/DSA-58010/blob/main/Long_Quiz_1.ipynb\" target=\"_parent\"><img src=\"https://colab.research.google.com/assets/colab-badge.svg\" alt=\"Open In Colab\"/></a>"
      ]
    },
    {
      "cell_type": "markdown",
      "source": [
        "1) Choose either Array or Linked-List data structure\n",
        "\n",
        "2) Create a python program that appends each character of your full name and displays each character in reverse order (in Colab)\n",
        "\n",
        "3) Save your program as \"Long Quiz 1\" to your GitHub\n",
        "\n",
        "4) Send the link address of GitHub to the Practical Laboratory folder (BlackBoard)"
      ],
      "metadata": {
        "id": "IjHaf0W7l7Ea"
      }
    },
    {
      "cell_type": "code",
      "source": [
        "import numpy #imports the whole numpy library in the program\n",
        "\n",
        "MyFullname = input(str(\"Please enter your Full name: \")) #Asks the user to enter his/her name and saves it to a variable \n",
        "NameArray = numpy.array(list(MyFullname)) #Creates an Array from the numpy library using the array function with the argument \n",
        "                                          #MyFullname (your name as a data type 'string') appended into the array character by character.\n",
        "\n",
        "ReversedNameArray = NameArray[::-1] #Modifies the Array by reversing the order of the elements (the first and second argument is left\n",
        "                                    #blank and the 3rd argument \"-1\" modifies the array by changing the address of each element and reverses it)\n",
        "\n",
        "for elements in ReversedNameArray: #loops through the array and prints every elements with no newline. The program finishes once the\n",
        "                                   #loop is finished iterating through the array\n",
        "    print(elements, end='')\n",
        "\n"
      ],
      "metadata": {
        "colab": {
          "base_uri": "https://localhost:8080/"
        },
        "id": "D3PuGOnwmAKi",
        "outputId": "389ea566-54bd-4011-b0e5-51b23a320af3"
      },
      "execution_count": 1,
      "outputs": [
        {
          "output_type": "stream",
          "name": "stdout",
          "text": [
            "Please enter your Full name: Zaldy Enrico Louis A. Mejia\n",
            "aijeM .A siuoL ocirnE ydlaZ"
          ]
        }
      ]
    }
  ]
}