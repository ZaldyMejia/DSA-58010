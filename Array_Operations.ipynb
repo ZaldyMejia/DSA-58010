{
  "nbformat": 4,
  "nbformat_minor": 0,
  "metadata": {
    "colab": {
      "name": "Untitled0.ipynb",
      "provenance": [],
      "authorship_tag": "ABX9TyP3zoyD9/D1txH35VCYwyJf",
      "include_colab_link": true
    },
    "kernelspec": {
      "name": "python3",
      "display_name": "Python 3"
    },
    "language_info": {
      "name": "python"
    }
  },
  "cells": [
    {
      "cell_type": "markdown",
      "metadata": {
        "id": "view-in-github",
        "colab_type": "text"
      },
      "source": [
        "<a href=\"https://colab.research.google.com/github/ZaldyMejia/DSA-58010/blob/main/Array_Operations.ipynb\" target=\"_parent\"><img src=\"https://colab.research.google.com/assets/colab-badge.svg\" alt=\"Open In Colab\"/></a>"
      ]
    },
    {
      "cell_type": "code",
      "execution_count": 8,
      "metadata": {
        "id": "IJ2QTQZsZ2Wl",
        "outputId": "bde8d572-d228-4018-d12b-f60f7d2930bd",
        "colab": {
          "base_uri": "https://localhost:8080/"
        }
      },
      "outputs": [
        {
          "output_type": "stream",
          "name": "stdout",
          "text": [
            "[[1, 2, 3], [4, 5, 6], [7, 8, 9]]\n"
          ]
        }
      ],
      "source": [
        "#create an array of number elements\n",
        "\n",
        "number = [[1,2,3],[4,5,6],[7,8,9]]\n",
        "\n",
        "print(number)"
      ]
    },
    {
      "cell_type": "code",
      "source": [
        "import numpy as np\n",
        "\n",
        "number = np.array([[1, 4, 5], \n",
        "                [-5, 8, 9]]) #2x2 matrix\n",
        "print(number)"
      ],
      "metadata": {
        "colab": {
          "base_uri": "https://localhost:8080/"
        },
        "id": "cS2BbU5291BB",
        "outputId": "42327bea-3f12-4562-ae56-2e3b480e7320"
      },
      "execution_count": 21,
      "outputs": [
        {
          "output_type": "stream",
          "name": "stdout",
          "text": [
            "[[ 1  4  5]\n",
            " [-5  8  9]]\n"
          ]
        }
      ]
    },
    {
      "cell_type": "code",
      "source": [
        "#create an array of elements pertaining to animals\n",
        "\n",
        "animals = [\"dog\", \"Cat\", \"Fish\"]\n",
        "\n",
        "for animal in animals:\n",
        "  print(animal)\n"
      ],
      "metadata": {
        "colab": {
          "base_uri": "https://localhost:8080/"
        },
        "id": "6JEApaq--zZh",
        "outputId": "99f2f5e0-b716-431c-a79b-62774b41b2e9"
      },
      "execution_count": 17,
      "outputs": [
        {
          "output_type": "stream",
          "name": "stdout",
          "text": [
            "dog\n",
            "Cat\n",
            "Fish\n"
          ]
        }
      ]
    },
    {
      "cell_type": "code",
      "source": [
        "#Modifying Elements in the Array\n",
        "\n",
        "animals = [\"dog\", \"Cat\", \"Fish\"]\n",
        "\n",
        "animals[0] = \"Elephant\"\n",
        "\n",
        "print(animals)"
      ],
      "metadata": {
        "colab": {
          "base_uri": "https://localhost:8080/"
        },
        "id": "wiq8Ph7N_kOR",
        "outputId": "945a5a7f-4bd1-43c7-d30b-baeb0a1a6ae1"
      },
      "execution_count": 22,
      "outputs": [
        {
          "output_type": "stream",
          "name": "stdout",
          "text": [
            "['Elephant', 'Cat', 'Fish']\n"
          ]
        }
      ]
    },
    {
      "cell_type": "code",
      "source": [
        "#Adding elements in the array\n",
        "\n",
        "animals = [\"dog\", \"Cat\", \"Fish\"]\n",
        "\n",
        "animals.append(\"pug\")\n",
        "\n",
        "print(animals[3])"
      ],
      "metadata": {
        "colab": {
          "base_uri": "https://localhost:8080/"
        },
        "id": "jskmh5XvAUu_",
        "outputId": "b6935606-d21b-4172-c1ed-5ebec71073f8"
      },
      "execution_count": 23,
      "outputs": [
        {
          "output_type": "stream",
          "name": "stdout",
          "text": [
            "pug\n"
          ]
        }
      ]
    },
    {
      "cell_type": "code",
      "source": [
        "#Removing an Element in the Array\n",
        "\n",
        "animals = [\"dog\", \"Cat\", \"Fish\"]\n",
        "\n",
        "animals.pop(2)\n",
        "\n",
        "print(animals[1])"
      ],
      "metadata": {
        "colab": {
          "base_uri": "https://localhost:8080/"
        },
        "id": "6pWCKMaFAs-M",
        "outputId": "d6184be4-84e6-46ed-af51-133c4eedf6fc"
      },
      "execution_count": 25,
      "outputs": [
        {
          "output_type": "stream",
          "name": "stdout",
          "text": [
            "Cat\n"
          ]
        }
      ]
    },
    {
      "cell_type": "code",
      "source": [],
      "metadata": {
        "id": "GzYFe53JCPu8"
      },
      "execution_count": null,
      "outputs": []
    }
  ]
}