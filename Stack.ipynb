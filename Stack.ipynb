{
  "nbformat": 4,
  "nbformat_minor": 0,
  "metadata": {
    "colab": {
      "provenance": [],
      "include_colab_link": true
    },
    "kernelspec": {
      "name": "python3",
      "display_name": "Python 3"
    },
    "language_info": {
      "name": "python"
    }
  },
  "cells": [
    {
      "cell_type": "markdown",
      "metadata": {
        "id": "view-in-github",
        "colab_type": "text"
      },
      "source": [
        "<a href=\"https://colab.research.google.com/github/ZaldyMejia/DSA-58010/blob/main/Stack.ipynb\" target=\"_parent\"><img src=\"https://colab.research.google.com/assets/colab-badge.svg\" alt=\"Open In Colab\"/></a>"
      ]
    },
    {
      "cell_type": "code",
      "execution_count": 22,
      "metadata": {
        "colab": {
          "base_uri": "https://localhost:8080/"
        },
        "id": "KcBV_oHy7hVf",
        "outputId": "cc445d20-9ab0-439e-dbdc-7ce8118294d8"
      },
      "outputs": [
        {
          "output_type": "stream",
          "name": "stdout",
          "text": [
            "Dog\n",
            "Cat\n",
            "Bird\n",
            "Rat\n",
            "Popped node: Rat\n",
            "Dog\n",
            "Cat\n",
            "Bird\n"
          ]
        }
      ],
      "source": [
        "#Python program where we delete the last element of a linked list using a remove/pop function\n",
        "class Node:\n",
        "  def __init__(self,data):\n",
        "    self.data = data\n",
        "    self.next = None #next node is initially as null\n",
        "\n",
        "class LinkedList:\n",
        "  def __init__(self):\n",
        "    self.head = None  #head node as null initially\n",
        "  def printList(self):\n",
        "    temp = self.head\n",
        "    while(temp):\n",
        "      print(temp.data)\n",
        "      temp = temp.next\n",
        "  def is_empty(self):\n",
        "    if self.head == None:\n",
        "      return True\n",
        "    else:\n",
        "      return False\n",
        "  def remove(self):\n",
        "    if self.is_empty():\n",
        "      return None\n",
        "    else:\n",
        "      poppednode = fourthelement\n",
        "      thirdelement.next = None\n",
        "      print(\"Popped node:\", poppednode.data)\n",
        "\n",
        "linkedList = LinkedList()\n",
        "linkedList.head = Node('Dog')\n",
        "secondelement = Node('Cat')\n",
        "thirdelement = Node('Bird')\n",
        "fourthelement = Node('Rat')\n",
        "\n",
        "linkedList.head.next = secondelement\n",
        "secondelement.next = thirdelement\n",
        "thirdelement.next = fourthelement\n",
        "\n",
        "linkedList.printList()\n",
        "linkedList.remove()\n",
        "linkedList.printList()"
      ]
    }
  ]
}